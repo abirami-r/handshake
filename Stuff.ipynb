{
 "cells": [
  {
   "cell_type": "code",
   "execution_count": 109,
   "id": "1466f3bd-34e0-4a90-8317-c32f46b4edbd",
   "metadata": {},
   "outputs": [],
   "source": [
    "from selenium import webdriver\n",
    "from time import sleep"
   ]
  },
  {
   "cell_type": "code",
   "execution_count": 110,
   "id": "528a35dc-21a6-4d13-ae32-b803e5a2dc18",
   "metadata": {},
   "outputs": [
    {
     "name": "stderr",
     "output_type": "stream",
     "text": [
      "/var/folders/m6/r17wll715cx2nk6316c2894w0000gn/T/ipykernel_8736/264696368.py:1: DeprecationWarning: executable_path has been deprecated, please pass in a Service object\n",
      "  chrome = webdriver.Chrome(\"./chromedriver\")\n"
     ]
    }
   ],
   "source": [
    "chrome = webdriver.Chrome(\"./chromedriver\")\n",
    "chrome.implicitly_wait(5)"
   ]
  },
  {
   "cell_type": "code",
   "execution_count": 111,
   "id": "e98aabb9-ee2c-4bab-b584-730ddedcc8f4",
   "metadata": {},
   "outputs": [],
   "source": [
    "chrome.get(\"https://app.joinhandshake.com/\")"
   ]
  },
  {
   "cell_type": "code",
   "execution_count": 112,
   "id": "1ca57bca-672c-4688-b7b3-b31640d9b421",
   "metadata": {},
   "outputs": [
    {
     "name": "stderr",
     "output_type": "stream",
     "text": [
      "/var/folders/m6/r17wll715cx2nk6316c2894w0000gn/T/ipykernel_8736/2516750657.py:1: DeprecationWarning: find_element_by_* commands are deprecated. Please use find_element() instead\n",
      "  school_name = chrome.find_element_by_class_name(\"select2-choice\")\n"
     ]
    }
   ],
   "source": [
    "school_name = chrome.find_element_by_class_name(\"select2-choice\")\n",
    "school_name.click()"
   ]
  },
  {
   "cell_type": "code",
   "execution_count": 113,
   "id": "c641dc9c-5d81-4742-9d35-b8b1568ea136",
   "metadata": {},
   "outputs": [],
   "source": [
    "school_name.send_keys(\"New York University\")"
   ]
  },
  {
   "cell_type": "code",
   "execution_count": 114,
   "id": "466085f0-ebb2-4fe6-a4f2-93fa3af7366f",
   "metadata": {},
   "outputs": [
    {
     "name": "stderr",
     "output_type": "stream",
     "text": [
      "/var/folders/m6/r17wll715cx2nk6316c2894w0000gn/T/ipykernel_8736/152568972.py:2: DeprecationWarning: find_element_by_* commands are deprecated. Please use find_element() instead\n",
      "  chrome.find_element_by_class_name(\"select2-result-label\").click()\n"
     ]
    }
   ],
   "source": [
    "school_name.send_keys(\"\\n\\n\")\n",
    "chrome.find_element_by_class_name(\"select2-result-label\").click()"
   ]
  },
  {
   "cell_type": "code",
   "execution_count": 115,
   "id": "1c542dad-10d6-43de-a1a4-e699b0d1ab6f",
   "metadata": {},
   "outputs": [
    {
     "name": "stderr",
     "output_type": "stream",
     "text": [
      "/var/folders/m6/r17wll715cx2nk6316c2894w0000gn/T/ipykernel_8736/2585960276.py:1: DeprecationWarning: find_element_by_* commands are deprecated. Please use find_element() instead\n",
      "  btn = chrome.find_element_by_class_name(\"sso-button\")\n"
     ]
    }
   ],
   "source": [
    "btn = chrome.find_element_by_class_name(\"sso-button\")\n",
    "btn.click()"
   ]
  },
  {
   "cell_type": "code",
   "execution_count": 116,
   "id": "9887c271-d94f-4f62-96df-45cbd2656ca8",
   "metadata": {},
   "outputs": [
    {
     "name": "stderr",
     "output_type": "stream",
     "text": [
      "/var/folders/m6/r17wll715cx2nk6316c2894w0000gn/T/ipykernel_8736/3101028740.py:1: DeprecationWarning: find_element_by_* commands are deprecated. Please use find_element() instead\n",
      "  chrome.find_element_by_id(\"username\").send_keys(\"ar7115\\t\")\n"
     ]
    }
   ],
   "source": [
    "chrome.find_element_by_id(\"username\").send_keys(\"ar7115\\t\")"
   ]
  },
  {
   "cell_type": "code",
   "execution_count": 117,
   "id": "a0f1640e-f722-458b-b28a-16f8e69b6d4d",
   "metadata": {},
   "outputs": [
    {
     "name": "stderr",
     "output_type": "stream",
     "text": [
      "/var/folders/m6/r17wll715cx2nk6316c2894w0000gn/T/ipykernel_8736/4293713902.py:1: DeprecationWarning: find_element_by_* commands are deprecated. Please use find_element() instead\n",
      "  chrome.find_element_by_id(\"password\").send_keys(\"Abirami@123\\n\")\n"
     ]
    }
   ],
   "source": [
    "chrome.find_element_by_id(\"password\").send_keys(\"Abirami@123\\n\")"
   ]
  },
  {
   "cell_type": "code",
   "execution_count": 118,
   "id": "5a41cd87-5089-4daa-a33a-d335d3f5c046",
   "metadata": {},
   "outputs": [],
   "source": [
    "chrome.switch_to.frame(\"duo_iframe\")"
   ]
  },
  {
   "cell_type": "code",
   "execution_count": 120,
   "id": "465b4651-3c4c-4d1f-a5cb-37ff4f97a3eb",
   "metadata": {},
   "outputs": [
    {
     "name": "stderr",
     "output_type": "stream",
     "text": [
      "/var/folders/m6/r17wll715cx2nk6316c2894w0000gn/T/ipykernel_8736/3889527688.py:2: DeprecationWarning: find_element_by_* commands are deprecated. Please use find_element() instead\n",
      "  chrome.find_element_by_class_name(\"auth-button\").click()\n"
     ]
    }
   ],
   "source": [
    "sleep(3)\n",
    "chrome.find_element_by_class_name(\"auth-button\").click()"
   ]
  },
  {
   "cell_type": "code",
   "execution_count": 121,
   "id": "3c62647c-989e-457b-8cf4-db9084aebf3f",
   "metadata": {},
   "outputs": [],
   "source": [
    "\n",
    "sleep(7)"
   ]
  },
  {
   "cell_type": "code",
   "execution_count": 122,
   "id": "ef92b136-8e8c-4ac2-a813-3571b539c7a7",
   "metadata": {},
   "outputs": [],
   "source": [
    "chrome.get(\"https://nyu.joinhandshake.com/stu/postings\")"
   ]
  },
  {
   "cell_type": "code",
   "execution_count": 123,
   "id": "034d56e7-93ee-4682-9219-ab8490714c81",
   "metadata": {},
   "outputs": [],
   "source": [
    "# chrome.quit()"
   ]
  },
  {
   "cell_type": "code",
   "execution_count": 126,
   "id": "400dab70-5709-4658-8a7b-69fc4910a13a",
   "metadata": {},
   "outputs": [],
   "source": [
    "from selenium.webdriver.common.by import By\n",
    "top_thingy = chrome.find_element(value=\"postings-filters\")\n",
    "top_thingy.find_elements(by=By.TAG_NAME, value=\"button\")[5].click()"
   ]
  },
  {
   "cell_type": "code",
   "execution_count": 127,
   "id": "65ff5b22-4d9c-4cb7-b100-98fe159cc7f3",
   "metadata": {},
   "outputs": [],
   "source": [
    "top_thingy = chrome.find_element"
   ]
  },
  {
   "cell_type": "code",
   "execution_count": 128,
   "id": "7c458e5a-b9b5-46af-9a42-648adf53cbc4",
   "metadata": {},
   "outputs": [
    {
     "name": "stderr",
     "output_type": "stream",
     "text": [
      "/var/folders/m6/r17wll715cx2nk6316c2894w0000gn/T/ipykernel_8736/3272929379.py:1: DeprecationWarning: find_element_by_* commands are deprecated. Please use find_element() instead\n",
      "  intern = chrome.find_element_by_id(\"advanced-filters-body\").find_elements_by_tag_name(\"button\")[2].click()\n"
     ]
    }
   ],
   "source": [
    "intern = chrome.find_element_by_id(\"advanced-filters-body\").find_elements_by_tag_name(\"button\")[2].click()"
   ]
  },
  {
   "cell_type": "code",
   "execution_count": 129,
   "id": "61578ccc-ff83-4db4-9b48-ad49c95fef57",
   "metadata": {},
   "outputs": [
    {
     "name": "stderr",
     "output_type": "stream",
     "text": [
      "/var/folders/m6/r17wll715cx2nk6316c2894w0000gn/T/ipykernel_8736/3165024805.py:1: DeprecationWarning: find_element_by_* commands are deprecated. Please use find_element() instead\n",
      "  chrome.find_element_by_id(\"advanced-filters-body\").find_element_by_css_selector(\"div[data-hook='work-auth-not-required']\").click()\n",
      "/Users/abiramiravishankar/miniforge3/envs/jupyter/lib/python3.10/site-packages/selenium/webdriver/remote/webelement.py:484: UserWarning: find_element_by_* commands are deprecated. Please use find_element() instead\n",
      "  warnings.warn(\"find_element_by_* commands are deprecated. Please use find_element() instead\")\n"
     ]
    }
   ],
   "source": [
    "chrome.find_element_by_id(\"advanced-filters-body\").find_element_by_css_selector(\"div[data-hook='work-auth-not-required']\").click()"
   ]
  },
  {
   "cell_type": "code",
   "execution_count": 130,
   "id": "3af717fa-4242-4f25-8f01-9805db9e9fad",
   "metadata": {},
   "outputs": [
    {
     "name": "stderr",
     "output_type": "stream",
     "text": [
      "/var/folders/m6/r17wll715cx2nk6316c2894w0000gn/T/ipykernel_8736/2169398091.py:1: DeprecationWarning: find_element_by_* commands are deprecated. Please use find_element() instead\n",
      "  chrome.find_element_by_id(\"advanced-filters-body\").find_element_by_css_selector(\"div[data-hook='accepts-opt-cpt']\").click()\n"
     ]
    }
   ],
   "source": [
    "chrome.find_element_by_id(\"advanced-filters-body\").find_element_by_css_selector(\"div[data-hook='accepts-opt-cpt']\").click()"
   ]
  },
  {
   "cell_type": "code",
   "execution_count": 131,
   "id": "33a010f5-a1df-42b3-82a1-2d7800b5c052",
   "metadata": {},
   "outputs": [
    {
     "name": "stderr",
     "output_type": "stream",
     "text": [
      "/var/folders/m6/r17wll715cx2nk6316c2894w0000gn/T/ipykernel_8736/3198590078.py:1: DeprecationWarning: find_element_by_* commands are deprecated. Please use find_element() instead\n",
      "  chrome.find_element_by_css_selector(\"div[data-hook='all-filters']\").find_element_by_css_selector('button[aria-label=\"Show results\"]').click()\n"
     ]
    }
   ],
   "source": [
    "chrome.find_element_by_css_selector(\"div[data-hook='all-filters']\").find_element_by_css_selector('button[aria-label=\"Show results\"]').click()"
   ]
  },
  {
   "cell_type": "code",
   "execution_count": 132,
   "id": "e7e0bbfd-f696-457a-bdda-27c63eac44e9",
   "metadata": {},
   "outputs": [
    {
     "name": "stderr",
     "output_type": "stream",
     "text": [
      "/var/folders/m6/r17wll715cx2nk6316c2894w0000gn/T/ipykernel_8736/2956244821.py:1: DeprecationWarning: find_element_by_* commands are deprecated. Please use find_element() instead\n",
      "  chrome.find_element_by_id(\"quick-filters-query\").send_keys(\"Data\\n\")\n"
     ]
    }
   ],
   "source": [
    "chrome.find_element_by_id(\"quick-filters-query\").send_keys(\"Data\\n\")"
   ]
  },
  {
   "cell_type": "code",
   "execution_count": 133,
   "id": "0487281d-f025-417e-9e36-5f96776f868c",
   "metadata": {
    "tags": []
   },
   "outputs": [
    {
     "name": "stderr",
     "output_type": "stream",
     "text": [
      "/var/folders/m6/r17wll715cx2nk6316c2894w0000gn/T/ipykernel_8736/626962419.py:1: DeprecationWarning: find_element_by_* commands are deprecated. Please use find_element() instead\n",
      "  for i in chrome.find_element_by_css_selector(\"div[data-hook='search-results']\").find_elements_by_tag_name(\"a\"):\n"
     ]
    },
    {
     "name": "stdout",
     "output_type": "stream",
     "text": [
      "FreshFull-time ∙ Internship\n",
      "Data Science Intern\n",
      "Grainger\n",
      "Chicago, IL\n",
      "Grainger University Relations\n",
      "\n",
      "Full-time ∙ Internship\n",
      "Data Engineer Intern\n",
      "Roku, Inc.\n",
      "San Jose, CA and 1 more\n",
      "\n",
      "Part-time ∙ Internship\n",
      "Data Science Intern\n",
      "Air Tox\n",
      "Remote ∙Willington, CT\n",
      "\n",
      "Full-time ∙ Internship\n",
      "Data Science Intern\n",
      "Indeed\n",
      "Remote ∙Austin, TX\n",
      "\n",
      "Full-time ∙ Internship\n",
      "Data Science Intern\n",
      "Roku, Inc.\n",
      "Santa Monica, CA and 4 more\n",
      "\n",
      "Full-time ∙ Internship\n",
      "Data Engineer Intern\n",
      "Amazon\n",
      "Seattle, WA and 17 more\n",
      "ST\n",
      "Samantha Turner\n",
      "\n",
      "Full-time ∙ Internship\n",
      "Data Scientist - Internship\n",
      "Two Sigma\n",
      "New York City, NY\n",
      "\n",
      "Full-time ∙ Internship\n",
      "Data & Analytics Sumer Intern\n",
      "Ascot Group\n",
      "New York City, NY\n",
      "\n",
      "FreshPart-time ∙ Internship\n",
      "Data & Analytics Marketing Intern\n",
      "Biz2Credit\n",
      "New York City, NY\n",
      "\n",
      "Part-time ∙ Internship\n",
      "Data Science Internship (Graduate)\n",
      "CVS Health\n",
      "Wellesley, MA and 1 more\n",
      "\n",
      "Full-time ∙ Internship\n",
      "Market Data Developer Internship\n",
      "Tradeweb\n",
      "Remote ∙Jersey City, NJ\n",
      "\n",
      "Full-time ∙ Internship ∙ Unpaid\n",
      "Statistical/Data Mining Analyst Internship\n",
      "Technical Consulting and Research, Inc.…\n",
      "Remote ∙Weston, CT\n",
      "\n",
      "Part-time ∙ Internship\n",
      "Intern, Python Developer - Data Analytics\n",
      "Balyasny Asset Management\n",
      "Remote ∙Miami, FL and 1 more\n",
      "\n",
      "Full-time ∙ Internship\n",
      "Developer Analyst – Data Services / Cloud\n",
      "Instinet\n",
      "New York City, NY\n",
      "\n",
      "Full-time ∙ Internship\n",
      "Cell Data Internship (Summer 2022)\n",
      "Tesla\n",
      "Remote ∙United States\n",
      "\n",
      "Full-time ∙ Internship\n",
      "Statistics & Data Science Research Intern\n",
      "Nokia Bell Labs\n",
      "New Providence, NJ\n",
      "\n",
      "Full-time ∙ Internship\n",
      "Intern - H&B Data Analyst\n",
      "Aon\n",
      "Lincolnshire, IL and 3 more\n",
      "\n",
      "FreshFull-time ∙ Internship\n",
      "Data Center Strategic Accounts Internship\n",
      "Black Box Network Services\n",
      "Plano, TX and 1 more\n",
      "Kristine Irwin\n",
      "Senior Recruiter - University and Military Relations\n",
      "\n",
      "Full-time ∙ Internship\n",
      "Data Analyst Intern - 2022 Summer\n",
      "TikTok\n",
      "Mountain View, CA\n",
      "Chris Bakes\n",
      "University Recruiter\n",
      "\n",
      "Full-time ∙ Internship\n",
      "Data Science Intern - Summer 2022\n",
      "William Blair\n",
      "Chicago, IL\n",
      "\n",
      "Full-time ∙ Internship\n",
      "Intern, Software Engineer - Data Platform\n",
      "Balyasny Asset Management\n",
      "New York City, NY\n",
      "\n",
      "Full-time ∙ Internship\n",
      "Data Scientist Intern - Summer 2022\n",
      "MATRiX ANALYTiCS CORPORATION\n",
      "New York City, NY\n",
      "Anil Bandari\n",
      "Founder & CEO\n",
      "\n",
      "Full-time ∙ Internship\n",
      "Summer Associate, Innovation - Data & Technology\n",
      "The Rockefeller Foundation\n",
      "Remote ∙New York City, NY\n",
      "\n",
      "Part-time ∙ Internship\n",
      "Intern, Quantitative Researcher - Data Scientist\n",
      "Balyasny Asset Management\n",
      "Chicago, IL\n",
      "\n",
      "FreshFull-time ∙ Internship\n",
      "Network Operations Data Analytics Intern\n",
      "Spectrum\n",
      "St. Louis, MO\n",
      "\n"
     ]
    }
   ],
   "source": [
    "for i in chrome.find_element_by_css_selector(\"div[data-hook='search-results']\").find_elements_by_tag_name(\"a\"):\n",
    "    print(i.text)\n",
    "    print(\"\")"
   ]
  },
  {
   "cell_type": "code",
   "execution_count": 134,
   "id": "5cf9de5f-7d09-47fc-8798-9299de50f556",
   "metadata": {},
   "outputs": [],
   "source": [
    "def match(title):\n",
    "    for kw in [\"data\",\"machine\", \" ai \", \"ml\", \"science\", \"scientist\"]:\n",
    "        if kw in title.lower():\n",
    "            \n",
    "            return True\n",
    "    return False"
   ]
  },
  {
   "cell_type": "code",
   "execution_count": 135,
   "id": "1ab6fb74-3e98-4a74-be77-4704d4d711f2",
   "metadata": {},
   "outputs": [
    {
     "data": {
      "text/plain": [
       "25"
      ]
     },
     "execution_count": 135,
     "metadata": {},
     "output_type": "execute_result"
    }
   ],
   "source": [
    "file = open(\"listings.csv\", \"w+\")\n",
    "file.write('\"title\",\"company\",\"link\"\\n')"
   ]
  },
  {
   "cell_type": "code",
   "execution_count": 136,
   "id": "a1d47ddd-656e-4516-b56d-5d36d4a04ee2",
   "metadata": {},
   "outputs": [],
   "source": [
    "def get_jobs_from_page(stuff):\n",
    "    for i in stuff.find_element_by_css_selector(\"div[data-hook='search-results']\").find_elements_by_tag_name(\"a\"):\n",
    "        if match(i.text.split(\"\\n\")[1]):\n",
    "            # print(i.text)\n",
    "            print(i.text.split(\"\\n\")[1])\n",
    "            print(i.text.split(\"\\n\")[2])\n",
    "            print(i.get_attribute(\"href\"))\n",
    "            title, company, link = i.text.split(\"\\n\")[1], i.text.split(\"\\n\")[2], i.get_attribute(\"href\")\n",
    "            file.write(f'\"{title}\",\"{company}\",\"{link}\"\\n')\n",
    "            print()\n",
    "        # print(\"\")"
   ]
  },
  {
   "cell_type": "code",
   "execution_count": 137,
   "id": "30a9c59f-6a3e-4a5c-ad38-841016621ed4",
   "metadata": {},
   "outputs": [
    {
     "name": "stderr",
     "output_type": "stream",
     "text": [
      "/var/folders/m6/r17wll715cx2nk6316c2894w0000gn/T/ipykernel_8736/3548435328.py:1: DeprecationWarning: find_element_by_* commands are deprecated. Please use find_element() instead\n",
      "  pages = chrome.find_element_by_css_selector(\"div[data-hook='search-results']\").text.split(\"\\n\")[-1].split(\" / \")[-1]\n"
     ]
    },
    {
     "data": {
      "text/plain": [
       "21"
      ]
     },
     "execution_count": 137,
     "metadata": {},
     "output_type": "execute_result"
    }
   ],
   "source": [
    "pages = chrome.find_element_by_css_selector(\"div[data-hook='search-results']\").text.split(\"\\n\")[-1].split(\" / \")[-1]\n",
    "pages = int(pages)\n",
    "pages"
   ]
  },
  {
   "cell_type": "code",
   "execution_count": 138,
   "id": "243e32b6-793a-4564-a058-871807d23368",
   "metadata": {},
   "outputs": [
    {
     "name": "stderr",
     "output_type": "stream",
     "text": [
      "/var/folders/m6/r17wll715cx2nk6316c2894w0000gn/T/ipykernel_8736/1156943566.py:2: DeprecationWarning: find_element_by_* commands are deprecated. Please use find_element() instead\n",
      "  for i in stuff.find_element_by_css_selector(\"div[data-hook='search-results']\").find_elements_by_tag_name(\"a\"):\n"
     ]
    },
    {
     "name": "stdout",
     "output_type": "stream",
     "text": [
      "Data Science Intern\n",
      "Grainger\n",
      "https://nyu.joinhandshake.com/jobs/5835106?ref=open-in-new-tab&search_id=c74d444e-b947-4c32-a32b-1a9d5152f75d\n",
      "\n",
      "Data Engineer Intern\n",
      "Roku, Inc.\n",
      "https://nyu.joinhandshake.com/jobs/5532799?ref=open-in-new-tab&search_id=c74d444e-b947-4c32-a32b-1a9d5152f75d\n",
      "\n",
      "Data Science Intern\n",
      "Air Tox\n",
      "https://nyu.joinhandshake.com/jobs/5805668?ref=open-in-new-tab&search_id=c74d444e-b947-4c32-a32b-1a9d5152f75d\n",
      "\n",
      "Data Science Intern\n",
      "Indeed\n",
      "https://nyu.joinhandshake.com/jobs/5348815?ref=open-in-new-tab&search_id=c74d444e-b947-4c32-a32b-1a9d5152f75d\n",
      "\n",
      "Data Science Intern\n",
      "Roku, Inc.\n",
      "https://nyu.joinhandshake.com/jobs/5532829?ref=open-in-new-tab&search_id=c74d444e-b947-4c32-a32b-1a9d5152f75d\n",
      "\n",
      "Data Engineer Intern\n",
      "Amazon\n",
      "https://nyu.joinhandshake.com/jobs/5064381?ref=open-in-new-tab&search_id=c74d444e-b947-4c32-a32b-1a9d5152f75d\n",
      "\n",
      "Data Scientist - Internship\n",
      "Two Sigma\n",
      "https://nyu.joinhandshake.com/jobs/5500507?ref=open-in-new-tab&search_id=c74d444e-b947-4c32-a32b-1a9d5152f75d\n",
      "\n",
      "Data & Analytics Sumer Intern\n",
      "Ascot Group\n",
      "https://nyu.joinhandshake.com/jobs/5668827?ref=open-in-new-tab&search_id=c74d444e-b947-4c32-a32b-1a9d5152f75d\n",
      "\n",
      "Data & Analytics Marketing Intern\n",
      "Biz2Credit\n",
      "https://nyu.joinhandshake.com/jobs/5838319?ref=open-in-new-tab&search_id=c74d444e-b947-4c32-a32b-1a9d5152f75d\n",
      "\n",
      "Data Science Internship (Graduate)\n",
      "CVS Health\n",
      "https://nyu.joinhandshake.com/jobs/5481051?ref=open-in-new-tab&search_id=c74d444e-b947-4c32-a32b-1a9d5152f75d\n",
      "\n",
      "Market Data Developer Internship\n",
      "Tradeweb\n",
      "https://nyu.joinhandshake.com/jobs/5585910?ref=open-in-new-tab&search_id=c74d444e-b947-4c32-a32b-1a9d5152f75d\n",
      "\n",
      "Statistical/Data Mining Analyst Internship\n",
      "Technical Consulting and Research, Inc.…\n",
      "https://nyu.joinhandshake.com/jobs/1237538?ref=open-in-new-tab&search_id=c74d444e-b947-4c32-a32b-1a9d5152f75d\n",
      "\n",
      "Intern, Python Developer - Data Analytics\n",
      "Balyasny Asset Management\n",
      "https://nyu.joinhandshake.com/jobs/5620187?ref=open-in-new-tab&search_id=c74d444e-b947-4c32-a32b-1a9d5152f75d\n",
      "\n",
      "Developer Analyst – Data Services / Cloud\n",
      "Instinet\n",
      "https://nyu.joinhandshake.com/jobs/5732377?ref=open-in-new-tab&search_id=c74d444e-b947-4c32-a32b-1a9d5152f75d\n",
      "\n",
      "Cell Data Internship (Summer 2022)\n",
      "Tesla\n",
      "https://nyu.joinhandshake.com/jobs/5743842?ref=open-in-new-tab&search_id=c74d444e-b947-4c32-a32b-1a9d5152f75d\n",
      "\n",
      "Statistics & Data Science Research Intern\n",
      "Nokia Bell Labs\n",
      "https://nyu.joinhandshake.com/jobs/5548904?ref=open-in-new-tab&search_id=c74d444e-b947-4c32-a32b-1a9d5152f75d\n",
      "\n",
      "Intern - H&B Data Analyst\n",
      "Aon\n",
      "https://nyu.joinhandshake.com/jobs/5506907?ref=open-in-new-tab&search_id=c74d444e-b947-4c32-a32b-1a9d5152f75d\n",
      "\n",
      "Data Center Strategic Accounts Internship\n",
      "Black Box Network Services\n",
      "https://nyu.joinhandshake.com/jobs/5892383?ref=open-in-new-tab&search_id=c74d444e-b947-4c32-a32b-1a9d5152f75d\n",
      "\n",
      "Data Analyst Intern - 2022 Summer\n",
      "TikTok\n",
      "https://nyu.joinhandshake.com/jobs/5375498?ref=open-in-new-tab&search_id=c74d444e-b947-4c32-a32b-1a9d5152f75d\n",
      "\n",
      "Data Science Intern - Summer 2022\n",
      "William Blair\n",
      "https://nyu.joinhandshake.com/jobs/5690804?ref=open-in-new-tab&search_id=c74d444e-b947-4c32-a32b-1a9d5152f75d\n",
      "\n",
      "Intern, Software Engineer - Data Platform\n",
      "Balyasny Asset Management\n",
      "https://nyu.joinhandshake.com/jobs/5798644?ref=open-in-new-tab&search_id=c74d444e-b947-4c32-a32b-1a9d5152f75d\n",
      "\n",
      "Data Scientist Intern - Summer 2022\n",
      "MATRiX ANALYTiCS CORPORATION\n",
      "https://nyu.joinhandshake.com/jobs/5428027?ref=open-in-new-tab&search_id=c74d444e-b947-4c32-a32b-1a9d5152f75d\n",
      "\n",
      "Summer Associate, Innovation - Data & Technology\n",
      "The Rockefeller Foundation\n",
      "https://nyu.joinhandshake.com/jobs/5680869?ref=open-in-new-tab&search_id=c74d444e-b947-4c32-a32b-1a9d5152f75d\n",
      "\n",
      "Intern, Quantitative Researcher - Data Scientist\n",
      "Balyasny Asset Management\n",
      "https://nyu.joinhandshake.com/jobs/5730015?ref=open-in-new-tab&search_id=c74d444e-b947-4c32-a32b-1a9d5152f75d\n",
      "\n",
      "Network Operations Data Analytics Intern\n",
      "Spectrum\n",
      "https://nyu.joinhandshake.com/jobs/5832194?ref=open-in-new-tab&search_id=c74d444e-b947-4c32-a32b-1a9d5152f75d\n",
      "\n"
     ]
    },
    {
     "name": "stderr",
     "output_type": "stream",
     "text": [
      "/var/folders/m6/r17wll715cx2nk6316c2894w0000gn/T/ipykernel_8736/3186332715.py:3: DeprecationWarning: find_element_by_* commands are deprecated. Please use find_element() instead\n",
      "  chrome.find_element_by_css_selector('button[data-hook=\"search-pagination-next\"]').click()\n"
     ]
    },
    {
     "name": "stdout",
     "output_type": "stream",
     "text": [
      "[Remote] Data Analytics Intern - Summer 2022\n",
      "Bankers Healthcare Group\n",
      "https://nyu.joinhandshake.com/jobs/5518269?ref=open-in-new-tab&search_id=5b9010a3-a99a-4128-89f2-0aa15e821ea8\n",
      "\n",
      "Summer Associate, Innovation - Data Science Ventures\n",
      "The Rockefeller Foundation\n",
      "https://nyu.joinhandshake.com/jobs/5680852?ref=open-in-new-tab&search_id=5b9010a3-a99a-4128-89f2-0aa15e821ea8\n",
      "\n",
      "Summer 2022 Data Science Intern - Remote\n",
      "Voya Financial\n",
      "https://nyu.joinhandshake.com/jobs/5884463?ref=open-in-new-tab&search_id=5b9010a3-a99a-4128-89f2-0aa15e821ea8\n",
      "\n",
      "Development Internship - Data Infrastructure Engineering, Summer 2022…\n",
      "Akuna Capital\n",
      "https://nyu.joinhandshake.com/jobs/4887116?ref=open-in-new-tab&search_id=5b9010a3-a99a-4128-89f2-0aa15e821ea8\n",
      "\n",
      "Graduate Software Intern - Summer 2022 Linked Data\n",
      "Raytheon Technologies\n",
      "https://nyu.joinhandshake.com/jobs/5510359?ref=open-in-new-tab&search_id=5b9010a3-a99a-4128-89f2-0aa15e821ea8\n",
      "\n",
      "Software - Data Engineering & Analytics Internship (Fall 2022)\n",
      "Tesla\n",
      "https://nyu.joinhandshake.com/jobs/5896774?ref=open-in-new-tab&search_id=5b9010a3-a99a-4128-89f2-0aa15e821ea8\n",
      "\n",
      "Energy Service - Data Analyst Internship (Summer 2022)\n",
      "Tesla\n",
      "https://nyu.joinhandshake.com/jobs/5744141?ref=open-in-new-tab&search_id=5b9010a3-a99a-4128-89f2-0aa15e821ea8\n",
      "\n",
      "Software - Data Engineering & Analytics Internship (Summer 2022)…\n",
      "Tesla\n",
      "https://nyu.joinhandshake.com/jobs/5744211?ref=open-in-new-tab&search_id=5b9010a3-a99a-4128-89f2-0aa15e821ea8\n",
      "\n",
      "Commercial Energy – Sales Data Science Internship (Summer 2022)…\n",
      "Tesla\n",
      "https://nyu.joinhandshake.com/jobs/5744199?ref=open-in-new-tab&search_id=5b9010a3-a99a-4128-89f2-0aa15e821ea8\n",
      "\n",
      "Database Developer\n",
      "FieldWorker.AI\n",
      "https://nyu.joinhandshake.com/jobs/5725342?ref=open-in-new-tab&search_id=5b9010a3-a99a-4128-89f2-0aa15e821ea8\n",
      "\n",
      "2022 Data Center Sourcing Specialist - Intern, AWS Energy Team\n",
      "Amazon\n",
      "https://nyu.joinhandshake.com/jobs/5764371?ref=open-in-new-tab&search_id=5b9010a3-a99a-4128-89f2-0aa15e821ea8\n",
      "\n",
      "Data Science & Machine Learning Engineering Internship & Co-op 2022\n",
      "Wayfair\n",
      "https://nyu.joinhandshake.com/jobs/5860128?ref=open-in-new-tab&search_id=5b9010a3-a99a-4128-89f2-0aa15e821ea8\n",
      "\n",
      "Fall 2022 Data Center GPU Performance Engineering Intern- 126046…\n",
      "Advanced Micro Devices\n",
      "https://nyu.joinhandshake.com/jobs/5667418?ref=open-in-new-tab&search_id=5b9010a3-a99a-4128-89f2-0aa15e821ea8\n",
      "\n",
      "Datacenter Customer Sales Intern\n",
      "Samsung Semiconductor, Inc.\n",
      "https://nyu.joinhandshake.com/jobs/5435692?ref=open-in-new-tab&search_id=5b9010a3-a99a-4128-89f2-0aa15e821ea8\n",
      "\n",
      "Intern - Strata Software Engineer (Dataplane)\n",
      "Palo Alto Networks\n",
      "https://nyu.joinhandshake.com/jobs/5848313?ref=open-in-new-tab&search_id=5b9010a3-a99a-4128-89f2-0aa15e821ea8\n",
      "\n",
      "Datacenter Operations Engineer Intern - 2022 Summer\n",
      "TikTok\n",
      "https://nyu.joinhandshake.com/jobs/5375502?ref=open-in-new-tab&search_id=5b9010a3-a99a-4128-89f2-0aa15e821ea8\n",
      "\n",
      "2022 Data Center Sourcing Manager - MBA Intern, AWS Energy Team\n",
      "Amazon\n",
      "https://nyu.joinhandshake.com/jobs/5764499?ref=open-in-new-tab&search_id=5b9010a3-a99a-4128-89f2-0aa15e821ea8\n",
      "\n",
      "Deutsche Bank Analyst Programme - Technology, Data and Innovation - New York - 2022…\n",
      "Deutsche Bank\n",
      "https://nyu.joinhandshake.com/jobs/5140680?ref=open-in-new-tab&search_id=5b9010a3-a99a-4128-89f2-0aa15e821ea8\n",
      "\n",
      "Summer 2022 Data Center GPU Performance Engineering Co-op/Intern- 126045…\n",
      "Advanced Micro Devices\n",
      "https://nyu.joinhandshake.com/jobs/5666938?ref=open-in-new-tab&search_id=5b9010a3-a99a-4128-89f2-0aa15e821ea8\n",
      "\n",
      "Evidera Internship Program – Data Analytics, Peri- and Post Approval Studies (PPAS)…\n",
      "Evidera\n",
      "https://nyu.joinhandshake.com/jobs/5884609?ref=open-in-new-tab&search_id=5b9010a3-a99a-4128-89f2-0aa15e821ea8\n",
      "\n",
      "Deutsche Bank Analyst Internship Programme – Technology, Data and Innovation - New York – 2022 Summer…\n",
      "Deutsche Bank\n",
      "https://nyu.joinhandshake.com/jobs/5140675?ref=open-in-new-tab&search_id=5b9010a3-a99a-4128-89f2-0aa15e821ea8\n",
      "\n",
      "Marketing Internship Experience 2.A: Text Data Mining, Analytics, and Optimization for Advertising (Prerequisites: separate ML and NLP classes)…\n",
      "Bashpole Software, Inc., a 100% Remote Work Company…\n",
      "https://nyu.joinhandshake.com/jobs/5801282?ref=open-in-new-tab&search_id=5b9010a3-a99a-4128-89f2-0aa15e821ea8\n",
      "\n",
      "Machine Learning Engineer Intern - Summer 2022\n",
      "William Blair\n",
      "https://nyu.joinhandshake.com/jobs/5690801?ref=open-in-new-tab&search_id=99eb4c49-5ff5-45d7-b3b6-5cb78cb28391\n",
      "\n",
      "Product Scientist Intern\n",
      "Indeed\n",
      "https://nyu.joinhandshake.com/jobs/5349026?ref=open-in-new-tab&search_id=99eb4c49-5ff5-45d7-b3b6-5cb78cb28391\n",
      "\n",
      "Applied AI ML Software Engineer Intern\n",
      "Nokia Bell Labs\n",
      "https://nyu.joinhandshake.com/jobs/5622008?ref=open-in-new-tab&search_id=8a48c24a-fbc2-42a0-bce4-a3e148c44465\n",
      "\n",
      "Machine Learning Engineer Intern - 2022 Summer\n",
      "TikTok\n",
      "https://nyu.joinhandshake.com/jobs/5373343?ref=open-in-new-tab&search_id=8a48c24a-fbc2-42a0-bce4-a3e148c44465\n",
      "\n",
      "Machine Learning Summer Interns 2022\n",
      "GRUBBRR\n",
      "https://nyu.joinhandshake.com/jobs/5695726?ref=open-in-new-tab&search_id=8a48c24a-fbc2-42a0-bce4-a3e148c44465\n",
      "\n",
      "Deep Learning Computer Vision Researcher-Scientist Intern\n",
      "Samsung Semiconductor, Inc.\n",
      "https://nyu.joinhandshake.com/jobs/5435658?ref=open-in-new-tab&search_id=239b9ebb-acca-40e8-9506-93bd0d426b6e\n",
      "\n",
      "Life Science Summer Associate\n",
      "DeciBio Consulting LLC\n",
      "https://nyu.joinhandshake.com/jobs/5750776?ref=open-in-new-tab&search_id=239b9ebb-acca-40e8-9506-93bd0d426b6e\n",
      "\n",
      "Conservation Science Traineeship\n",
      "Hawk Mountain Sanctuary\n",
      "https://nyu.joinhandshake.com/jobs/3360798?ref=open-in-new-tab&search_id=179c06ec-a24d-483a-92af-e32e167d8959\n",
      "\n",
      "Computational Materials Scientist Intern\n",
      "Samsung Semiconductor, Inc.\n",
      "https://nyu.joinhandshake.com/jobs/5435398?ref=open-in-new-tab&search_id=78a4a500-0540-4aa0-80c7-f86381c0b2cb\n",
      "\n",
      "Food Scientist Intern\n",
      "SMK Global\n",
      "https://nyu.joinhandshake.com/jobs/5753677?ref=open-in-new-tab&search_id=3d27c789-e1b8-4ad5-bb3d-4b9b01a25a9e\n",
      "\n",
      "Applied AI ML Machine Vision Intern\n",
      "Nokia Bell Labs\n",
      "https://nyu.joinhandshake.com/jobs/5548864?ref=open-in-new-tab&search_id=3d27c789-e1b8-4ad5-bb3d-4b9b01a25a9e\n",
      "\n",
      "Environmental Science Intern for Planning, Permitting, Licensing\n",
      "TRC Companies\n",
      "https://nyu.joinhandshake.com/jobs/5337586?ref=open-in-new-tab&search_id=e7cc3831-df72-4ca1-8660-43310ed05812\n",
      "\n",
      "Machine Learning Research Intern\n",
      "Samsung Semiconductor, Inc.\n",
      "https://nyu.joinhandshake.com/jobs/5435553?ref=open-in-new-tab&search_id=02428835-e44b-419d-8780-21d587857e7e\n",
      "\n",
      "Intern, AI/ML for the Wireless Communications PHY layer …\n",
      "InterDigital\n",
      "https://nyu.joinhandshake.com/jobs/5646085?ref=open-in-new-tab&search_id=9d38d1fb-d0b2-4a64-a768-3f309c928796\n",
      "\n",
      "Intern, AI/ML for Wireless Communication\n",
      "InterDigital\n",
      "https://nyu.joinhandshake.com/jobs/5646233?ref=open-in-new-tab&search_id=9d38d1fb-d0b2-4a64-a768-3f309c928796\n",
      "\n",
      "Marketing Internship Experience 1.A: Applied Cognitive Science, Psychology, and Philosophy for Writing Ads that Make a Difference…\n",
      "Bashpole Software, Inc., a 100% Remote Work Company…\n",
      "https://nyu.joinhandshake.com/jobs/5799033?ref=open-in-new-tab&search_id=9a1f056d-e895-4802-bbf5-1a38694ef872\n",
      "\n"
     ]
    }
   ],
   "source": [
    "for i in range(pages-1):\n",
    "    get_jobs_from_page(chrome)\n",
    "    chrome.find_element_by_css_selector('button[data-hook=\"search-pagination-next\"]').click()"
   ]
  },
  {
   "cell_type": "code",
   "execution_count": 139,
   "id": "9c6ee7d9-5808-45b3-83d3-89cadc539640",
   "metadata": {},
   "outputs": [],
   "source": [
    "file.flush()"
   ]
  },
  {
   "cell_type": "code",
   "execution_count": null,
   "id": "7e3dd96f-cd71-4064-9229-59b0cd8f5955",
   "metadata": {},
   "outputs": [],
   "source": []
  }
 ],
 "metadata": {
  "kernelspec": {
   "display_name": "Python 3 (ipykernel)",
   "language": "python",
   "name": "python3"
  },
  "language_info": {
   "codemirror_mode": {
    "name": "ipython",
    "version": 3
   },
   "file_extension": ".py",
   "mimetype": "text/x-python",
   "name": "python",
   "nbconvert_exporter": "python",
   "pygments_lexer": "ipython3",
   "version": "3.10.1"
  }
 },
 "nbformat": 4,
 "nbformat_minor": 5
}
